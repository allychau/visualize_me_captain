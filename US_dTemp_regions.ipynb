{
 "cells": [
  {
   "cell_type": "code",
   "execution_count": 1,
   "metadata": {},
   "outputs": [],
   "source": [
    "import os\n",
    "import requests\n",
    "import pandas as pd"
   ]
  },
  {
   "cell_type": "code",
   "execution_count": 12,
   "metadata": {},
   "outputs": [
    {
     "data": {
      "text/html": [
       "<div>\n",
       "<style scoped>\n",
       "    .dataframe tbody tr th:only-of-type {\n",
       "        vertical-align: middle;\n",
       "    }\n",
       "\n",
       "    .dataframe tbody tr th {\n",
       "        vertical-align: top;\n",
       "    }\n",
       "\n",
       "    .dataframe thead th {\n",
       "        text-align: right;\n",
       "    }\n",
       "</style>\n",
       "<table border=\"1\" class=\"dataframe\">\n",
       "  <thead>\n",
       "    <tr style=\"text-align: right;\">\n",
       "      <th></th>\n",
       "      <th>NCA Region</th>\n",
       "      <th>Change in Annual Average Temperature</th>\n",
       "      <th>Change in Annual Average Maximum Temperature</th>\n",
       "      <th>Change in Annual Average Minimum Temperature</th>\n",
       "    </tr>\n",
       "  </thead>\n",
       "  <tbody>\n",
       "    <tr>\n",
       "      <th>0</th>\n",
       "      <td>Contiguous U.S.</td>\n",
       "      <td>1.23°F</td>\n",
       "      <td>1.06°F</td>\n",
       "      <td>1.41°F</td>\n",
       "    </tr>\n",
       "    <tr>\n",
       "      <th>1</th>\n",
       "      <td>Northeast</td>\n",
       "      <td>1.43°F</td>\n",
       "      <td>1.16°F</td>\n",
       "      <td>1.70°F</td>\n",
       "    </tr>\n",
       "    <tr>\n",
       "      <th>2</th>\n",
       "      <td>Southeast</td>\n",
       "      <td>0.46°F</td>\n",
       "      <td>0.16°F</td>\n",
       "      <td>0.76°F</td>\n",
       "    </tr>\n",
       "    <tr>\n",
       "      <th>3</th>\n",
       "      <td>Midwest</td>\n",
       "      <td>1.26°F</td>\n",
       "      <td>0.77°F</td>\n",
       "      <td>1.75°F</td>\n",
       "    </tr>\n",
       "    <tr>\n",
       "      <th>4</th>\n",
       "      <td>Great Plains North</td>\n",
       "      <td>1.69°F</td>\n",
       "      <td>1.66°F</td>\n",
       "      <td>1.72°F</td>\n",
       "    </tr>\n",
       "    <tr>\n",
       "      <th>5</th>\n",
       "      <td>Great Plains South</td>\n",
       "      <td>0.76°F</td>\n",
       "      <td>0.56°F</td>\n",
       "      <td>0.96°F</td>\n",
       "    </tr>\n",
       "    <tr>\n",
       "      <th>6</th>\n",
       "      <td>Southwest</td>\n",
       "      <td>1.61°F</td>\n",
       "      <td>1.61°F</td>\n",
       "      <td>1.61°F</td>\n",
       "    </tr>\n",
       "    <tr>\n",
       "      <th>7</th>\n",
       "      <td>Northwest</td>\n",
       "      <td>1.54°F</td>\n",
       "      <td>1.52°F</td>\n",
       "      <td>1.56°F</td>\n",
       "    </tr>\n",
       "    <tr>\n",
       "      <th>8</th>\n",
       "      <td>Alaska</td>\n",
       "      <td>1.67°F</td>\n",
       "      <td>1.43°F</td>\n",
       "      <td>1.91°F</td>\n",
       "    </tr>\n",
       "    <tr>\n",
       "      <th>9</th>\n",
       "      <td>Hawaii</td>\n",
       "      <td>1.26°F</td>\n",
       "      <td>1.01°F</td>\n",
       "      <td>1.49°F</td>\n",
       "    </tr>\n",
       "    <tr>\n",
       "      <th>10</th>\n",
       "      <td>Caribbean</td>\n",
       "      <td>1.35°F</td>\n",
       "      <td>1.08°F</td>\n",
       "      <td>1.60°F</td>\n",
       "    </tr>\n",
       "  </tbody>\n",
       "</table>\n",
       "</div>"
      ],
      "text/plain": [
       "            NCA Region Change in Annual Average Temperature  \\\n",
       "0      Contiguous U.S.                               1.23°F   \n",
       "1            Northeast                               1.43°F   \n",
       "2            Southeast                               0.46°F   \n",
       "3              Midwest                               1.26°F   \n",
       "4   Great Plains North                               1.69°F   \n",
       "5   Great Plains South                               0.76°F   \n",
       "6            Southwest                               1.61°F   \n",
       "7            Northwest                               1.54°F   \n",
       "8               Alaska                               1.67°F   \n",
       "9               Hawaii                               1.26°F   \n",
       "10           Caribbean                               1.35°F   \n",
       "\n",
       "   Change in Annual Average Maximum Temperature  \\\n",
       "0                                        1.06°F   \n",
       "1                                        1.16°F   \n",
       "2                                        0.16°F   \n",
       "3                                        0.77°F   \n",
       "4                                        1.66°F   \n",
       "5                                        0.56°F   \n",
       "6                                        1.61°F   \n",
       "7                                        1.52°F   \n",
       "8                                        1.43°F   \n",
       "9                                        1.01°F   \n",
       "10                                       1.08°F   \n",
       "\n",
       "   Change in Annual Average Minimum Temperature  \n",
       "0                                        1.41°F  \n",
       "1                                        1.70°F  \n",
       "2                                        0.76°F  \n",
       "3                                        1.75°F  \n",
       "4                                        1.72°F  \n",
       "5                                        0.96°F  \n",
       "6                                        1.61°F  \n",
       "7                                        1.56°F  \n",
       "8                                        1.91°F  \n",
       "9                                        1.49°F  \n",
       "10                                       1.60°F  "
      ]
     },
     "execution_count": 12,
     "metadata": {},
     "output_type": "execute_result"
    }
   ],
   "source": [
    "# Temp Increase Extraction using Pandas\n",
    "\n",
    "url = 'https://science2017.globalchange.gov/chapter/6/'\n",
    "table = pd.read_html(url)\n",
    "temp_df = table[2]\n",
    "temp_df"
   ]
  },
  {
   "cell_type": "code",
   "execution_count": 13,
   "metadata": {},
   "outputs": [
    {
     "data": {
      "text/plain": [
       "'<table border=\"1\" class=\"dataframe\">\\n  <thead>\\n    <tr style=\"text-align: right;\">\\n      <th></th>\\n      <th>NCA Region</th>\\n      <th>Change in Annual Average Temperature</th>\\n      <th>Change in Annual Average Maximum Temperature</th>\\n      <th>Change in Annual Average Minimum Temperature</th>\\n    </tr>\\n  </thead>\\n  <tbody>\\n    <tr>\\n      <th>0</th>\\n      <td>Contiguous U.S.</td>\\n      <td>1.23°F</td>\\n      <td>1.06°F</td>\\n      <td>1.41°F</td>\\n    </tr>\\n    <tr>\\n      <th>1</th>\\n      <td>Northeast</td>\\n      <td>1.43°F</td>\\n      <td>1.16°F</td>\\n      <td>1.70°F</td>\\n    </tr>\\n    <tr>\\n      <th>2</th>\\n      <td>Southeast</td>\\n      <td>0.46°F</td>\\n      <td>0.16°F</td>\\n      <td>0.76°F</td>\\n    </tr>\\n    <tr>\\n      <th>3</th>\\n      <td>Midwest</td>\\n      <td>1.26°F</td>\\n      <td>0.77°F</td>\\n      <td>1.75°F</td>\\n    </tr>\\n    <tr>\\n      <th>4</th>\\n      <td>Great Plains North</td>\\n      <td>1.69°F</td>\\n      <td>1.66°F</td>\\n      <td>1.72°F</td>\\n    </tr>\\n    <tr>\\n      <th>5</th>\\n      <td>Great Plains South</td>\\n      <td>0.76°F</td>\\n      <td>0.56°F</td>\\n      <td>0.96°F</td>\\n    </tr>\\n    <tr>\\n      <th>6</th>\\n      <td>Southwest</td>\\n      <td>1.61°F</td>\\n      <td>1.61°F</td>\\n      <td>1.61°F</td>\\n    </tr>\\n    <tr>\\n      <th>7</th>\\n      <td>Northwest</td>\\n      <td>1.54°F</td>\\n      <td>1.52°F</td>\\n      <td>1.56°F</td>\\n    </tr>\\n    <tr>\\n      <th>8</th>\\n      <td>Alaska</td>\\n      <td>1.67°F</td>\\n      <td>1.43°F</td>\\n      <td>1.91°F</td>\\n    </tr>\\n    <tr>\\n      <th>9</th>\\n      <td>Hawaii</td>\\n      <td>1.26°F</td>\\n      <td>1.01°F</td>\\n      <td>1.49°F</td>\\n    </tr>\\n    <tr>\\n      <th>10</th>\\n      <td>Caribbean</td>\\n      <td>1.35°F</td>\\n      <td>1.08°F</td>\\n      <td>1.60°F</td>\\n    </tr>\\n  </tbody>\\n</table>'"
      ]
     },
     "execution_count": 13,
     "metadata": {},
     "output_type": "execute_result"
    }
   ],
   "source": [
    "# Convert tabular data to html\n",
    "temp_table = temp_df.to_html()\n",
    "temp_table"
   ]
  },
  {
   "cell_type": "markdown",
   "metadata": {},
   "source": [
    "Average Temperatures from 1986-2016 vs. Average Temperatures from 1901-1960 in different US Regions:\n",
    " \n",
    "Relative to temperatures early in 20th Century, all US regions have experienced temperature increases. This is true for average, minimum avg, and maximum avg temperatures. The greatest temperature increases have taken place in the Western USA (SW/Hawaii, NW/Alaska).\n"
   ]
  },
  {
   "cell_type": "code",
   "execution_count": null,
   "metadata": {},
   "outputs": [],
   "source": [
    "# Would be interesting to correlate the regional temperature increase data with regional electric car sales data"
   ]
  }
 ],
 "metadata": {
  "kernelspec": {
   "display_name": "Python 3",
   "language": "python",
   "name": "python3"
  },
  "language_info": {
   "codemirror_mode": {
    "name": "ipython",
    "version": 3
   },
   "file_extension": ".py",
   "mimetype": "text/x-python",
   "name": "python",
   "nbconvert_exporter": "python",
   "pygments_lexer": "ipython3",
   "version": "3.7.6"
  }
 },
 "nbformat": 4,
 "nbformat_minor": 4
}
